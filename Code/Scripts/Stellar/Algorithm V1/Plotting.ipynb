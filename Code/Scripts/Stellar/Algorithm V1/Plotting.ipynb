{
 "cells": [
  {
   "cell_type": "code",
   "id": "initial_id",
   "metadata": {
    "collapsed": true,
    "ExecuteTime": {
     "end_time": "2025-02-17T12:49:29.935857Z",
     "start_time": "2025-02-17T12:49:29.065850Z"
    }
   },
   "source": [
    "import pandas as pd\n",
    "import seaborn as sns\n",
    "import matplotlib.pyplot as plt"
   ],
   "outputs": [],
   "execution_count": 6
  },
  {
   "metadata": {
    "ExecuteTime": {
     "end_time": "2025-02-17T12:46:35.598237Z",
     "start_time": "2025-02-17T12:46:34.579172Z"
    }
   },
   "cell_type": "code",
   "source": [
    "data=pd.read_excel(\"stellar_results.xlsx\")\n",
    "data.head()"
   ],
   "id": "abf17dee35b6c3c3",
   "outputs": [
    {
     "data": {
      "text/plain": [
       "   n_nodes  p_edge  n_agents  source  target  Shortest Path Nodes  \\\n",
       "0       10    0.05         1       0       1                    3   \n",
       "1       10    0.05         1       0       2                    4   \n",
       "2       10    0.05         1       0       3                    4   \n",
       "3       10    0.05         1       0       4                    3   \n",
       "4       10    0.05         1       0       5                    2   \n",
       "\n",
       "   Shortest Path Length  Blind Path Length  First Found Path Length  \\\n",
       "0           2304.309451        1306.144619              2304.309451   \n",
       "1            484.100940         435.018472               484.100940   \n",
       "2            155.228147         228.194774               155.228147   \n",
       "3            148.643066         126.630958               148.643066   \n",
       "4            103.363977         102.922389               103.363977   \n",
       "\n",
       "   Total Length Traversed  \n",
       "0             2304.309451  \n",
       "1              484.100940  \n",
       "2              155.228147  \n",
       "3              148.643066  \n",
       "4              103.363977  "
      ],
      "text/html": [
       "<div>\n",
       "<style scoped>\n",
       "    .dataframe tbody tr th:only-of-type {\n",
       "        vertical-align: middle;\n",
       "    }\n",
       "\n",
       "    .dataframe tbody tr th {\n",
       "        vertical-align: top;\n",
       "    }\n",
       "\n",
       "    .dataframe thead th {\n",
       "        text-align: right;\n",
       "    }\n",
       "</style>\n",
       "<table border=\"1\" class=\"dataframe\">\n",
       "  <thead>\n",
       "    <tr style=\"text-align: right;\">\n",
       "      <th></th>\n",
       "      <th>n_nodes</th>\n",
       "      <th>p_edge</th>\n",
       "      <th>n_agents</th>\n",
       "      <th>source</th>\n",
       "      <th>target</th>\n",
       "      <th>Shortest Path Nodes</th>\n",
       "      <th>Shortest Path Length</th>\n",
       "      <th>Blind Path Length</th>\n",
       "      <th>First Found Path Length</th>\n",
       "      <th>Total Length Traversed</th>\n",
       "    </tr>\n",
       "  </thead>\n",
       "  <tbody>\n",
       "    <tr>\n",
       "      <th>0</th>\n",
       "      <td>10</td>\n",
       "      <td>0.05</td>\n",
       "      <td>1</td>\n",
       "      <td>0</td>\n",
       "      <td>1</td>\n",
       "      <td>3</td>\n",
       "      <td>2304.309451</td>\n",
       "      <td>1306.144619</td>\n",
       "      <td>2304.309451</td>\n",
       "      <td>2304.309451</td>\n",
       "    </tr>\n",
       "    <tr>\n",
       "      <th>1</th>\n",
       "      <td>10</td>\n",
       "      <td>0.05</td>\n",
       "      <td>1</td>\n",
       "      <td>0</td>\n",
       "      <td>2</td>\n",
       "      <td>4</td>\n",
       "      <td>484.100940</td>\n",
       "      <td>435.018472</td>\n",
       "      <td>484.100940</td>\n",
       "      <td>484.100940</td>\n",
       "    </tr>\n",
       "    <tr>\n",
       "      <th>2</th>\n",
       "      <td>10</td>\n",
       "      <td>0.05</td>\n",
       "      <td>1</td>\n",
       "      <td>0</td>\n",
       "      <td>3</td>\n",
       "      <td>4</td>\n",
       "      <td>155.228147</td>\n",
       "      <td>228.194774</td>\n",
       "      <td>155.228147</td>\n",
       "      <td>155.228147</td>\n",
       "    </tr>\n",
       "    <tr>\n",
       "      <th>3</th>\n",
       "      <td>10</td>\n",
       "      <td>0.05</td>\n",
       "      <td>1</td>\n",
       "      <td>0</td>\n",
       "      <td>4</td>\n",
       "      <td>3</td>\n",
       "      <td>148.643066</td>\n",
       "      <td>126.630958</td>\n",
       "      <td>148.643066</td>\n",
       "      <td>148.643066</td>\n",
       "    </tr>\n",
       "    <tr>\n",
       "      <th>4</th>\n",
       "      <td>10</td>\n",
       "      <td>0.05</td>\n",
       "      <td>1</td>\n",
       "      <td>0</td>\n",
       "      <td>5</td>\n",
       "      <td>2</td>\n",
       "      <td>103.363977</td>\n",
       "      <td>102.922389</td>\n",
       "      <td>103.363977</td>\n",
       "      <td>103.363977</td>\n",
       "    </tr>\n",
       "  </tbody>\n",
       "</table>\n",
       "</div>"
      ]
     },
     "execution_count": 4,
     "metadata": {},
     "output_type": "execute_result"
    }
   ],
   "execution_count": 4
  },
  {
   "metadata": {},
   "cell_type": "markdown",
   "source": [
    "\n",
    "### METRICS:\n",
    "    First Found Path length\n",
    "        Comparison with Dijkstra's Algorithm (Blind)\n",
    "        Comparison with Dijkstra's Algorithm (Full Knowledge)\n",
    "    Total Length Traversed\n",
    "    Average Length Traversed Per Agent\n",
    "\n",
    "### INDEPENDENT VARIABLES:\n",
    "    Number of Agents\n",
    "    Heuristics Used (?)\n",
    "    Graph Size\n",
    "    Edge Probability\n",
    "\n",
    "## Filter\n",
    "    Shortest Path Length>=3"
   ],
   "id": "4c318af665052f7f"
  },
  {
   "metadata": {
    "ExecuteTime": {
     "end_time": "2025-02-17T12:57:49.860069Z",
     "start_time": "2025-02-17T12:57:49.856094Z"
    }
   },
   "cell_type": "code",
   "source": "data=data[data[\"Shortest Path Length\"]>=3]",
   "id": "2f1cb4af8838dc85",
   "outputs": [],
   "execution_count": 41
  },
  {
   "metadata": {
    "ExecuteTime": {
     "end_time": "2025-02-17T12:57:52.801165Z",
     "start_time": "2025-02-17T12:57:52.794492Z"
    }
   },
   "cell_type": "code",
   "source": "data.head()",
   "id": "9fb4751e131ee2f3",
   "outputs": [
    {
     "data": {
      "text/plain": [
       "   n_nodes  p_edge  n_agents  source  target  Shortest Path Nodes  \\\n",
       "0       10    0.05         1       0       1                    3   \n",
       "1       10    0.05         1       0       2                    4   \n",
       "2       10    0.05         1       0       3                    4   \n",
       "3       10    0.05         1       0       4                    3   \n",
       "4       10    0.05         1       0       5                    2   \n",
       "\n",
       "   Shortest Path Length  Blind Path Length  First Found Path Length  \\\n",
       "0           2304.309451        1306.144619              2304.309451   \n",
       "1            484.100940         435.018472               484.100940   \n",
       "2            155.228147         228.194774               155.228147   \n",
       "3            148.643066         126.630958               148.643066   \n",
       "4            103.363977         102.922389               103.363977   \n",
       "\n",
       "   Total Length Traversed  \n",
       "0             2304.309451  \n",
       "1              484.100940  \n",
       "2              155.228147  \n",
       "3              148.643066  \n",
       "4              103.363977  "
      ],
      "text/html": [
       "<div>\n",
       "<style scoped>\n",
       "    .dataframe tbody tr th:only-of-type {\n",
       "        vertical-align: middle;\n",
       "    }\n",
       "\n",
       "    .dataframe tbody tr th {\n",
       "        vertical-align: top;\n",
       "    }\n",
       "\n",
       "    .dataframe thead th {\n",
       "        text-align: right;\n",
       "    }\n",
       "</style>\n",
       "<table border=\"1\" class=\"dataframe\">\n",
       "  <thead>\n",
       "    <tr style=\"text-align: right;\">\n",
       "      <th></th>\n",
       "      <th>n_nodes</th>\n",
       "      <th>p_edge</th>\n",
       "      <th>n_agents</th>\n",
       "      <th>source</th>\n",
       "      <th>target</th>\n",
       "      <th>Shortest Path Nodes</th>\n",
       "      <th>Shortest Path Length</th>\n",
       "      <th>Blind Path Length</th>\n",
       "      <th>First Found Path Length</th>\n",
       "      <th>Total Length Traversed</th>\n",
       "    </tr>\n",
       "  </thead>\n",
       "  <tbody>\n",
       "    <tr>\n",
       "      <th>0</th>\n",
       "      <td>10</td>\n",
       "      <td>0.05</td>\n",
       "      <td>1</td>\n",
       "      <td>0</td>\n",
       "      <td>1</td>\n",
       "      <td>3</td>\n",
       "      <td>2304.309451</td>\n",
       "      <td>1306.144619</td>\n",
       "      <td>2304.309451</td>\n",
       "      <td>2304.309451</td>\n",
       "    </tr>\n",
       "    <tr>\n",
       "      <th>1</th>\n",
       "      <td>10</td>\n",
       "      <td>0.05</td>\n",
       "      <td>1</td>\n",
       "      <td>0</td>\n",
       "      <td>2</td>\n",
       "      <td>4</td>\n",
       "      <td>484.100940</td>\n",
       "      <td>435.018472</td>\n",
       "      <td>484.100940</td>\n",
       "      <td>484.100940</td>\n",
       "    </tr>\n",
       "    <tr>\n",
       "      <th>2</th>\n",
       "      <td>10</td>\n",
       "      <td>0.05</td>\n",
       "      <td>1</td>\n",
       "      <td>0</td>\n",
       "      <td>3</td>\n",
       "      <td>4</td>\n",
       "      <td>155.228147</td>\n",
       "      <td>228.194774</td>\n",
       "      <td>155.228147</td>\n",
       "      <td>155.228147</td>\n",
       "    </tr>\n",
       "    <tr>\n",
       "      <th>3</th>\n",
       "      <td>10</td>\n",
       "      <td>0.05</td>\n",
       "      <td>1</td>\n",
       "      <td>0</td>\n",
       "      <td>4</td>\n",
       "      <td>3</td>\n",
       "      <td>148.643066</td>\n",
       "      <td>126.630958</td>\n",
       "      <td>148.643066</td>\n",
       "      <td>148.643066</td>\n",
       "    </tr>\n",
       "    <tr>\n",
       "      <th>4</th>\n",
       "      <td>10</td>\n",
       "      <td>0.05</td>\n",
       "      <td>1</td>\n",
       "      <td>0</td>\n",
       "      <td>5</td>\n",
       "      <td>2</td>\n",
       "      <td>103.363977</td>\n",
       "      <td>102.922389</td>\n",
       "      <td>103.363977</td>\n",
       "      <td>103.363977</td>\n",
       "    </tr>\n",
       "  </tbody>\n",
       "</table>\n",
       "</div>"
      ]
     },
     "execution_count": 43,
     "metadata": {},
     "output_type": "execute_result"
    }
   ],
   "execution_count": 43
  },
  {
   "metadata": {
    "ExecuteTime": {
     "end_time": "2025-02-17T12:57:00.776507Z",
     "start_time": "2025-02-17T12:57:00.554260Z"
    }
   },
   "cell_type": "code",
   "source": "",
   "id": "38e60aa5509fc63a",
   "outputs": [
    {
     "data": {
      "text/plain": [
       "<Axes: xlabel='n_agents', ylabel='First Found Path Length'>"
      ]
     },
     "execution_count": 40,
     "metadata": {},
     "output_type": "execute_result"
    },
    {
     "data": {
      "text/plain": [
       "<Figure size 640x480 with 1 Axes>"
      ],
      "image/png": "[encoded data removed]"
     },
     "metadata": {},
     "output_type": "display_data"
    }
   ],
   "execution_count": 40
  }
 ],
 "metadata": {
  "kernelspec": {
   "display_name": "Python 3",
   "language": "python",
   "name": "python3"
  },
  "language_info": {
   "codemirror_mode": {
    "name": "ipython",
    "version": 2
   },
   "file_extension": ".py",
   "mimetype": "text/x-python",
   "name": "python",
   "nbconvert_exporter": "python",
   "pygments_lexer": "ipython2",
   "version": "2.7.6"
  }
 },
 "nbformat": 4,
 "nbformat_minor": 5
}
